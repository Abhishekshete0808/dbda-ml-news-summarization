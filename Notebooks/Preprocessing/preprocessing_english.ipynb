{
 "cells": [
  {
   "cell_type": "markdown",
   "id": "3d774958-4df3-415c-89a8-7355e670e1fb",
   "metadata": {},
   "source": [
    "####  Pre-requisites"
   ]
  },
  {
   "cell_type": "code",
   "execution_count": 1,
   "id": "1632189c-b726-4ac0-aae0-70ac0c22905f",
   "metadata": {},
   "outputs": [],
   "source": [
    "import warnings \n",
    "warnings.filterwarnings(action=\"ignore\")"
   ]
  },
  {
   "cell_type": "markdown",
   "id": "f1fef173-ed94-46c0-a423-c92416a06ad2",
   "metadata": {},
   "source": [
    "#### Import required packages"
   ]
  },
  {
   "cell_type": "code",
   "execution_count": 2,
   "id": "1f4fbd8b-4bf3-4356-9ce5-c40c3d6a182f",
   "metadata": {},
   "outputs": [],
   "source": [
    "import os\n",
    "import pandas as pd\n",
    "import numpy as np\n",
    "import matplotlib.pyplot as plt\n",
    "import seaborn as sns\n",
    "from langdetect import detect"
   ]
  },
  {
   "cell_type": "markdown",
   "id": "85a71257-5d58-4c41-8d3e-8b4d97bea74d",
   "metadata": {},
   "source": [
    "#### Paths"
   ]
  },
  {
   "cell_type": "code",
   "execution_count": 3,
   "id": "6ff09982-912f-4aa0-bf32-d0afaf283a9a",
   "metadata": {},
   "outputs": [],
   "source": [
    "RAW_TRAIN_PATH = '../../Data/Raw/english_train.csv.csv'\n",
    "RAW_TEST_PATH  = '../../Data/Raw/english_test.csv.csv'\n",
    "PROCESSED_TRAIN_PATH = '../../Data/Processed/english_train_cleaned.csv'\n",
    "PROCESSED_TEST_PATH  = '../../Data/Processed/english_test_cleaned.csv'"
   ]
  },
  {
   "cell_type": "markdown",
   "id": "2bb39a7b-fc02-4a9f-a947-ae3048cb0c9d",
   "metadata": {},
   "source": [
    "#### Load the data"
   ]
  },
  {
   "cell_type": "code",
   "execution_count": 4,
   "id": "2b20e0ec-5534-4d6a-bf83-f635b8227b83",
   "metadata": {},
   "outputs": [
    {
     "name": "stdout",
     "output_type": "stream",
     "text": [
      "Train shape: (28342, 4), Test shape: (2895, 4)\n"
     ]
    }
   ],
   "source": [
    "train_df = pd.read_csv(RAW_TRAIN_PATH)\n",
    "test_df  = pd.read_csv(RAW_TEST_PATH)\n",
    "print(f\"Train shape: {train_df.shape}, Test shape: {test_df.shape}\")"
   ]
  },
  {
   "cell_type": "code",
   "execution_count": 5,
   "id": "e3a53f34-c725-4db7-a145-1b34e5a32bae",
   "metadata": {},
   "outputs": [
    {
     "data": {
      "text/html": [
       "<div>\n",
       "<style scoped>\n",
       "    .dataframe tbody tr th:only-of-type {\n",
       "        vertical-align: middle;\n",
       "    }\n",
       "\n",
       "    .dataframe tbody tr th {\n",
       "        vertical-align: top;\n",
       "    }\n",
       "\n",
       "    .dataframe thead th {\n",
       "        text-align: right;\n",
       "    }\n",
       "</style>\n",
       "<table border=\"1\" class=\"dataframe\">\n",
       "  <thead>\n",
       "    <tr style=\"text-align: right;\">\n",
       "      <th></th>\n",
       "      <th>id</th>\n",
       "      <th>Heading</th>\n",
       "      <th>Summary</th>\n",
       "      <th>Article</th>\n",
       "    </tr>\n",
       "  </thead>\n",
       "  <tbody>\n",
       "    <tr>\n",
       "      <th>0</th>\n",
       "      <td>english_2023_train_0</td>\n",
       "      <td>Barbie Review: Greta Gerwig, Margot Robbie, Ry...</td>\n",
       "      <td>Barbie Movie Review: Ryan Gosling shines the b...</td>\n",
       "      <td>Barbie Movie Review: One mention of Barbie and...</td>\n",
       "    </tr>\n",
       "    <tr>\n",
       "      <th>1</th>\n",
       "      <td>english_2023_train_1</td>\n",
       "      <td>Gadar 2: Sunny Deol-Ameesha Patel Starrer's Tr...</td>\n",
       "      <td>A source close to the film told News18 exclusi...</td>\n",
       "      <td>The highly anticipated Gadar 2, starring Sunny...</td>\n",
       "    </tr>\n",
       "    <tr>\n",
       "      <th>2</th>\n",
       "      <td>english_2023_train_2</td>\n",
       "      <td>Kartik Aaryan Ditches First Class To Fly In Ec...</td>\n",
       "      <td>Kartik Aaryan was spotted flying in economy cl...</td>\n",
       "      <td>Kartik Aaryan, who is gearing up for the relea...</td>\n",
       "    </tr>\n",
       "    <tr>\n",
       "      <th>3</th>\n",
       "      <td>english_2023_train_3</td>\n",
       "      <td>India's Anju, Now Fatima, Receives Land, Money...</td>\n",
       "      <td>Abbasi had said that it was important to make ...</td>\n",
       "      <td>Indian woman, Anju who travelled to Pakistan t...</td>\n",
       "    </tr>\n",
       "    <tr>\n",
       "      <th>4</th>\n",
       "      <td>english_2023_train_4</td>\n",
       "      <td>Himachal Pradesh Hotels Offer 50% Discount As ...</td>\n",
       "      <td>Flash floods and landslides caused by heavy do...</td>\n",
       "      <td>Himachal Pradesh, one of the worst hit states ...</td>\n",
       "    </tr>\n",
       "  </tbody>\n",
       "</table>\n",
       "</div>"
      ],
      "text/plain": [
       "                     id                                            Heading  \\\n",
       "0  english_2023_train_0  Barbie Review: Greta Gerwig, Margot Robbie, Ry...   \n",
       "1  english_2023_train_1  Gadar 2: Sunny Deol-Ameesha Patel Starrer's Tr...   \n",
       "2  english_2023_train_2  Kartik Aaryan Ditches First Class To Fly In Ec...   \n",
       "3  english_2023_train_3  India's Anju, Now Fatima, Receives Land, Money...   \n",
       "4  english_2023_train_4  Himachal Pradesh Hotels Offer 50% Discount As ...   \n",
       "\n",
       "                                             Summary  \\\n",
       "0  Barbie Movie Review: Ryan Gosling shines the b...   \n",
       "1  A source close to the film told News18 exclusi...   \n",
       "2  Kartik Aaryan was spotted flying in economy cl...   \n",
       "3  Abbasi had said that it was important to make ...   \n",
       "4  Flash floods and landslides caused by heavy do...   \n",
       "\n",
       "                                             Article  \n",
       "0  Barbie Movie Review: One mention of Barbie and...  \n",
       "1  The highly anticipated Gadar 2, starring Sunny...  \n",
       "2  Kartik Aaryan, who is gearing up for the relea...  \n",
       "3  Indian woman, Anju who travelled to Pakistan t...  \n",
       "4  Himachal Pradesh, one of the worst hit states ...  "
      ]
     },
     "execution_count": 5,
     "metadata": {},
     "output_type": "execute_result"
    }
   ],
   "source": [
    "train_df.head()"
   ]
  },
  {
   "cell_type": "code",
   "execution_count": 6,
   "id": "4bd897ff-f33e-4701-9d6c-49b15295ffb2",
   "metadata": {},
   "outputs": [
    {
     "data": {
      "text/html": [
       "<div>\n",
       "<style scoped>\n",
       "    .dataframe tbody tr th:only-of-type {\n",
       "        vertical-align: middle;\n",
       "    }\n",
       "\n",
       "    .dataframe tbody tr th {\n",
       "        vertical-align: top;\n",
       "    }\n",
       "\n",
       "    .dataframe thead th {\n",
       "        text-align: right;\n",
       "    }\n",
       "</style>\n",
       "<table border=\"1\" class=\"dataframe\">\n",
       "  <thead>\n",
       "    <tr style=\"text-align: right;\">\n",
       "      <th></th>\n",
       "      <th>id</th>\n",
       "      <th>Heading</th>\n",
       "      <th>Summary</th>\n",
       "      <th>Article</th>\n",
       "    </tr>\n",
       "  </thead>\n",
       "  <tbody>\n",
       "    <tr>\n",
       "      <th>0</th>\n",
       "      <td>EnglishNews_test_0</td>\n",
       "      <td>After Durga Puja, West Bengal Govt Eyes UNESCO...</td>\n",
       "      <td>Notably, last year, Kolkata's Durga Puja festi...</td>\n",
       "      <td>Chief Minister Mamata Banerjee-led West Bengal...</td>\n",
       "    </tr>\n",
       "    <tr>\n",
       "      <th>1</th>\n",
       "      <td>EnglishNews_test_1</td>\n",
       "      <td>Is Your Xiaomi Mi A3 Bricked Because of The Fa...</td>\n",
       "      <td>Xiaomi has confirmed that all bricked Mi A3 ph...</td>\n",
       "      <td>If you are a Xiaomi Mi A3 user whose unit has ...</td>\n",
       "    </tr>\n",
       "    <tr>\n",
       "      <th>2</th>\n",
       "      <td>EnglishNews_test_2</td>\n",
       "      <td>Har Ghar Tiranga Movement: Right Time for Indi...</td>\n",
       "      <td>It is Prime Minister Narendra Modi's unique wa...</td>\n",
       "      <td>Har Ghar Tiranga  is Prime Minister Narendra M...</td>\n",
       "    </tr>\n",
       "    <tr>\n",
       "      <th>3</th>\n",
       "      <td>EnglishNews_test_3</td>\n",
       "      <td>Hero MotoCorp Plans to Expand its Electric Two...</td>\n",
       "      <td>Besides targeting leadership in the electric t...</td>\n",
       "      <td>VidaHero MotoCorp is gearing up to expand its ...</td>\n",
       "    </tr>\n",
       "    <tr>\n",
       "      <th>4</th>\n",
       "      <td>EnglishNews_test_4</td>\n",
       "      <td>Delhi HC Permits St Stephen's College to Hold ...</td>\n",
       "      <td>Delhi HC has permitted DU's St Stephen's Colle...</td>\n",
       "      <td>The Delhi High Court has permitted St Stephen'...</td>\n",
       "    </tr>\n",
       "  </tbody>\n",
       "</table>\n",
       "</div>"
      ],
      "text/plain": [
       "                   id                                            Heading  \\\n",
       "0  EnglishNews_test_0  After Durga Puja, West Bengal Govt Eyes UNESCO...   \n",
       "1  EnglishNews_test_1  Is Your Xiaomi Mi A3 Bricked Because of The Fa...   \n",
       "2  EnglishNews_test_2  Har Ghar Tiranga Movement: Right Time for Indi...   \n",
       "3  EnglishNews_test_3  Hero MotoCorp Plans to Expand its Electric Two...   \n",
       "4  EnglishNews_test_4  Delhi HC Permits St Stephen's College to Hold ...   \n",
       "\n",
       "                                             Summary  \\\n",
       "0  Notably, last year, Kolkata's Durga Puja festi...   \n",
       "1  Xiaomi has confirmed that all bricked Mi A3 ph...   \n",
       "2  It is Prime Minister Narendra Modi's unique wa...   \n",
       "3  Besides targeting leadership in the electric t...   \n",
       "4  Delhi HC has permitted DU's St Stephen's Colle...   \n",
       "\n",
       "                                             Article  \n",
       "0  Chief Minister Mamata Banerjee-led West Bengal...  \n",
       "1  If you are a Xiaomi Mi A3 user whose unit has ...  \n",
       "2  Har Ghar Tiranga  is Prime Minister Narendra M...  \n",
       "3  VidaHero MotoCorp is gearing up to expand its ...  \n",
       "4  The Delhi High Court has permitted St Stephen'...  "
      ]
     },
     "execution_count": 6,
     "metadata": {},
     "output_type": "execute_result"
    }
   ],
   "source": [
    "test_df.head()"
   ]
  },
  {
   "cell_type": "markdown",
   "id": "a7873a7c-adc0-470b-badc-4fd622fc5660",
   "metadata": {},
   "source": [
    "#### EDA"
   ]
  },
  {
   "cell_type": "code",
   "execution_count": 7,
   "id": "dc80a0a7-ddf5-4ba9-b5d0-a0bb32260139",
   "metadata": {},
   "outputs": [
    {
     "name": "stdout",
     "output_type": "stream",
     "text": [
      "Train Data Shape: (28342, 4)\n",
      "Test Data Shape: (2895, 4)\n"
     ]
    }
   ],
   "source": [
    "# no of rows and col in the dataset\n",
    "print(\"Train Data Shape:\", train_df.shape)\n",
    "print(\"Test Data Shape:\", test_df.shape)"
   ]
  },
  {
   "cell_type": "code",
   "execution_count": 8,
   "id": "f392ab42-b9ba-4cfd-8bc6-5e2c15758245",
   "metadata": {},
   "outputs": [
    {
     "name": "stdout",
     "output_type": "stream",
     "text": [
      "\n",
      "--- Train Info ---\n",
      "<class 'pandas.core.frame.DataFrame'>\n",
      "RangeIndex: 28342 entries, 0 to 28341\n",
      "Data columns (total 4 columns):\n",
      " #   Column   Non-Null Count  Dtype \n",
      "---  ------   --------------  ----- \n",
      " 0   id       28342 non-null  object\n",
      " 1   Heading  28342 non-null  object\n",
      " 2   Summary  28342 non-null  object\n",
      " 3   Article  28342 non-null  object\n",
      "dtypes: object(4)\n",
      "memory usage: 885.8+ KB\n"
     ]
    }
   ],
   "source": [
    "# get the general info about the dataset\n",
    "print(\"\\n--- Train Info ---\")\n",
    "train_df.info()"
   ]
  },
  {
   "cell_type": "code",
   "execution_count": 9,
   "id": "7d6a7eb2-5eb7-4870-a59f-675175a931e5",
   "metadata": {},
   "outputs": [
    {
     "name": "stdout",
     "output_type": "stream",
     "text": [
      "\n",
      "--- Test Info ---\n",
      "<class 'pandas.core.frame.DataFrame'>\n",
      "RangeIndex: 2895 entries, 0 to 2894\n",
      "Data columns (total 4 columns):\n",
      " #   Column   Non-Null Count  Dtype \n",
      "---  ------   --------------  ----- \n",
      " 0   id       2895 non-null   object\n",
      " 1   Heading  2895 non-null   object\n",
      " 2   Summary  2895 non-null   object\n",
      " 3   Article  2895 non-null   object\n",
      "dtypes: object(4)\n",
      "memory usage: 90.6+ KB\n"
     ]
    }
   ],
   "source": [
    "print(\"\\n--- Test Info ---\")\n",
    "test_df.info()"
   ]
  },
  {
   "cell_type": "markdown",
   "id": "b231c880-ac3b-4b55-aa86-467c2e0333b3",
   "metadata": {},
   "source": [
    "#### Pre-processing"
   ]
  },
  {
   "cell_type": "code",
   "execution_count": 10,
   "id": "bf5de691-3aad-4e9a-ac8f-72a220d8a6a2",
   "metadata": {},
   "outputs": [
    {
     "name": "stdout",
     "output_type": "stream",
     "text": [
      "\n",
      "Missing values in Train:\n",
      " id         0\n",
      "Heading    0\n",
      "Summary    0\n",
      "Article    0\n",
      "dtype: int64\n",
      "\n",
      "Missing values in Test:\n",
      " id         0\n",
      "Heading    0\n",
      "Summary    0\n",
      "Article    0\n",
      "dtype: int64\n"
     ]
    }
   ],
   "source": [
    "# Check nulls\n",
    "print(\"\\nMissing values in Train:\\n\", train_df.isnull().sum())\n",
    "print(\"\\nMissing values in Test:\\n\", test_df.isnull().sum())"
   ]
  },
  {
   "cell_type": "code",
   "execution_count": 11,
   "id": "9ddf6e16-a217-49e6-a293-a45167fcff4f",
   "metadata": {},
   "outputs": [],
   "source": [
    "# keep only required columns\n",
    "train_df=train_df[['Article','Summary']]\n",
    "test_df=test_df[['Article','Summary']]"
   ]
  },
  {
   "cell_type": "code",
   "execution_count": 12,
   "id": "a41d847c-2aa2-4825-8d8c-451a6dae7b7c",
   "metadata": {},
   "outputs": [
    {
     "name": "stdout",
     "output_type": "stream",
     "text": [
      "Train shape after removing duplicates: (28332, 2)\n",
      "Test shape after removing duplicates: (2895, 2)\n"
     ]
    }
   ],
   "source": [
    "# Remove exact duplicates\n",
    "train_df.drop_duplicates(inplace=True)\n",
    "test_df.drop_duplicates(inplace=True)\n",
    "\n",
    "print(\"Train shape after removing duplicates:\", train_df.shape)\n",
    "print(\"Test shape after removing duplicates:\", test_df.shape)"
   ]
  },
  {
   "cell_type": "code",
   "execution_count": 13,
   "id": "9b0dc511-8738-48b9-b955-24a9ff333ed8",
   "metadata": {},
   "outputs": [],
   "source": [
    "#Whitespace & Empties\n",
    "train_df['Article'] = train_df['Article'].astype(str).str.strip()\n",
    "train_df['Summary'] = train_df['Summary'].astype(str).str.strip()\n",
    "test_df['Article']  = test_df['Article'].astype(str).str.strip()\n",
    "test_df['Summary']  = test_df['Summary'].astype(str).str.strip()\n",
    "\n",
    "train_df = train_df[(train_df['Article'].str.len() > 0) & (train_df['Summary'].str.len() > 0)]\n",
    "test_df  = test_df[(test_df['Article'].str.len() > 0) & (test_df['Summary'].str.len() > 0)]"
   ]
  },
  {
   "cell_type": "code",
   "execution_count": 14,
   "id": "552c8899-a438-4b65-bfd9-f6867bd875f8",
   "metadata": {},
   "outputs": [],
   "source": [
    "#Length Filtering\n",
    "train_df['Article_len'] = train_df['Article'].apply(lambda x: len(x.split()))\n",
    "train_df['Summary_len'] = train_df['Summary'].apply(lambda x: len(x.split()))\n",
    "test_df['Article_len']  = test_df['Article'].apply(lambda x: len(x.split()))\n",
    "test_df['Summary_len']  = test_df['Summary'].apply(lambda x: len(x.split()))\n",
    "\n",
    "MIN_ARTICLE_LEN = 10\n",
    "MIN_SUMMARY_LEN = 5\n",
    "\n",
    "train_df = train_df[(train_df['Article_len'] >= MIN_ARTICLE_LEN) & (train_df['Summary_len'] >= MIN_SUMMARY_LEN)].reset_index(drop=True)\n",
    "test_df  = test_df[(test_df['Article_len']  >= MIN_ARTICLE_LEN) & (test_df['Summary_len']  >= MIN_SUMMARY_LEN)].reset_index(drop=True)"
   ]
  },
  {
   "cell_type": "code",
   "execution_count": 15,
   "id": "42f89185-5fdd-416b-bda4-1b109d6d8564",
   "metadata": {},
   "outputs": [
    {
     "name": "stdout",
     "output_type": "stream",
     "text": [
      "Dropped 0 short rows from train set\n",
      "Dropped 0 short rows from test set\n"
     ]
    }
   ],
   "source": [
    "# Drop short rows: article < 10 words OR summary < 5 words\n",
    "train_before = train_df.shape[0]\n",
    "train_df = train_df[(train_df['Article_len'] >= 10) & (train_df['Summary_len'] >= 5)]\n",
    "train_after = train_df.shape[0]\n",
    "print(f\"Dropped {train_before - train_after} short rows from train set\")\n",
    "\n",
    "test_before = test_df.shape[0]\n",
    "test_df = test_df[(test_df['Article_len'] >= 10) & (test_df['Summary_len'] >= 5)]\n",
    "test_after = test_df.shape[0]\n",
    "print(f\"Dropped {test_before - test_after} short rows from test set\")"
   ]
  },
  {
   "cell_type": "code",
   "execution_count": 16,
   "id": "9fc37267-b7fe-4e88-9414-ed3fa2383d28",
   "metadata": {},
   "outputs": [
    {
     "name": "stdout",
     "output_type": "stream",
     "text": [
      "Running language detection recommended for very noisy/public datasets)...\n"
     ]
    }
   ],
   "source": [
    "# Language Filtering\n",
    "def safe_detect_lang(text):\n",
    "    try:\n",
    "        return detect(text)\n",
    "    except:\n",
    "        return \"error\"\n",
    "\n",
    "print('Running language detection recommended for very noisy/public datasets)...')\n",
    "train_df['Article_lang'] = train_df['Article'].apply(safe_detect_lang)\n",
    "train_df['Summary_lang'] = train_df['Summary'].apply(safe_detect_lang)\n",
    "test_df['Article_lang']  = test_df['Article'].apply(safe_detect_lang)\n",
    "test_df['Summary_lang']  = test_df['Summary'].apply(safe_detect_lang)\n",
    "\n",
    "train_df = train_df[(train_df['Article_lang'] == 'en') & (train_df['Summary_lang'] == 'en')].reset_index(drop=True)\n",
    "test_df  = test_df[(test_df['Article_lang']  == 'en') & (test_df['Summary_lang']  == 'en')].reset_index(drop=True)\n"
   ]
  },
  {
   "cell_type": "code",
   "execution_count": 17,
   "id": "e97d921c-79c6-4489-bfe3-df0e5f55b0bb",
   "metadata": {},
   "outputs": [],
   "source": [
    "# Drop language columns before saving\n",
    "train_df = train_df[['Article', 'Summary']]\n",
    "test_df  = test_df[['Article', 'Summary']]"
   ]
  },
  {
   "cell_type": "markdown",
   "id": "f9a9d4be-0c9b-4c77-98d1-9545536f6743",
   "metadata": {},
   "source": [
    "#### Visualization"
   ]
  },
  {
   "cell_type": "code",
   "execution_count": 18,
   "id": "e14917f2-3479-4dc7-9b7e-16b2c8b07f90",
   "metadata": {},
   "outputs": [
    {
     "data": {
      "image/png": "[encoded data removed]",
      "text/plain": [
       "<Figure size 1200x500 with 1 Axes>"
      ]
     },
     "metadata": {},
     "output_type": "display_data"
    },
    {
     "data": {
      "image/png": "[encoded data removed]",
      "text/plain": [
       "<Figure size 1200x500 with 1 Axes>"
      ]
     },
     "metadata": {},
     "output_type": "display_data"
    },
    {
     "name": "stdout",
     "output_type": "stream",
     "text": [
      "Mean Article Length: 527.0\n",
      "Mean Summary Length: 32.0\n"
     ]
    }
   ],
   "source": [
    "plt.figure(figsize=(12,5))\n",
    "sns.histplot(train_df['Article'].apply(lambda x: len(x.split())), kde=True, bins=50, color='teal')\n",
    "plt.title('Train Set: Article Length Distribution')\n",
    "plt.xlabel('Number of Words')\n",
    "plt.show()\n",
    "\n",
    "plt.figure(figsize=(12,5))\n",
    "sns.histplot(train_df['Summary'].apply(lambda x: len(x.split())), kde=True, bins=50, color='orange')\n",
    "plt.title('Train Set: Summary Length Distribution')\n",
    "plt.xlabel('Number of Words')\n",
    "plt.show()\n",
    "\n",
    "print(f\"Mean Article Length: {train_df['Article'].apply(lambda x: len(x.split())).mean():.1f}\")\n",
    "print(f\"Mean Summary Length: {train_df['Summary'].apply(lambda x: len(x.split())).mean():.1f}\")"
   ]
  },
  {
   "cell_type": "code",
   "execution_count": 19,
   "id": "925c8892-6a05-4dbb-8bd0-edbdb8c16318",
   "metadata": {},
   "outputs": [],
   "source": [
    "# Save Processed Data\n",
    "os.makedirs(os.path.dirname(PROCESSED_TRAIN_PATH), exist_ok=True)\n",
    "train_df.to_csv(PROCESSED_TRAIN_PATH, index=False)\n",
    "test_df.to_csv(PROCESSED_TEST_PATH, index=False)"
   ]
  }
 ],
 "metadata": {
  "kernelspec": {
   "display_name": "Python (pegasusenv)",
   "language": "python",
   "name": "pegasusenv"
  },
  "language_info": {
   "codemirror_mode": {
    "name": "ipython",
    "version": 3
   },
   "file_extension": ".py",
   "mimetype": "text/x-python",
   "name": "python",
   "nbconvert_exporter": "python",
   "pygments_lexer": "ipython3",
   "version": "3.10.17"
  }
 },
 "nbformat": 4,
 "nbformat_minor": 5
}
