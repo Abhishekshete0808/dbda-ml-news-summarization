{
 "cells": [
  {
   "cell_type": "markdown",
   "id": "3cbda22c-c651-4ee6-b236-47d00a49e9bc",
   "metadata": {},
   "source": [
    "#### Import required packages"
   ]
  },
  {
   "cell_type": "code",
   "execution_count": 1,
   "id": "f1adff3b-b988-4fc4-928f-07f9e7acd656",
   "metadata": {},
   "outputs": [],
   "source": [
    "import os\n",
    "import pandas as pd\n",
    "from datasets import Dataset\n",
    "from transformers import PegasusTokenizer"
   ]
  },
  {
   "cell_type": "markdown",
   "id": "fae91cb2-893f-4f6f-a9a3-89e99933c5f6",
   "metadata": {},
   "source": [
    "#### Define Paths"
   ]
  },
  {
   "cell_type": "code",
   "execution_count": 2,
   "id": "1e6df60c-7953-4caa-9ab3-5cea2524feda",
   "metadata": {},
   "outputs": [],
   "source": [
    "PROCESSED_TRAIN_PATH = r'..\\..\\Data\\Processed\\english_train_cleaned.csv'\n",
    "PROCESSED_TEST_PATH  = r'..\\..\\Data\\Processed\\english_test_cleaned.csv'\n",
    "TOKENIZED_OUT_DIR = r'..\\..\\Data\\Processed\\tokenized_pegasus_english'"
   ]
  },
  {
   "cell_type": "markdown",
   "id": "8b7f45fe-ea48-47c7-a98c-14059437620f",
   "metadata": {},
   "source": [
    "#### Load Cleaned Data"
   ]
  },
  {
   "cell_type": "code",
   "execution_count": 3,
   "id": "fcb7c54f-49ba-40c4-b1fd-4cb4b3043d19",
   "metadata": {},
   "outputs": [
    {
     "name": "stdout",
     "output_type": "stream",
     "text": [
      "Loaded train: (28225, 2) | test: (2889, 2)\n"
     ]
    }
   ],
   "source": [
    "\n",
    "train_df = pd.read_csv(PROCESSED_TRAIN_PATH)\n",
    "test_df = pd.read_csv(PROCESSED_TEST_PATH)\n",
    "\n",
    "print(f\"Loaded train: {train_df.shape} | test: {test_df.shape}\")"
   ]
  },
  {
   "cell_type": "markdown",
   "id": "6d9fbadd-16b8-4ae3-8a06-0c03185d2b17",
   "metadata": {},
   "source": [
    "#### Initialize PEGASUS Tokenizer"
   ]
  },
  {
   "cell_type": "code",
   "execution_count": null,
   "id": "7573b0f3-9978-48f2-ba89-edebf03d7f0d",
   "metadata": {},
   "outputs": [],
   "source": [
    "\n",
    "tokenizer = PegasusTokenizer.from_pretrained(\"google/pegasus-xsum\")\n",
    "\n",
    "# Define Tokenization Function\n",
    "def preprocess_function(batch):\n",
    "    model_inputs = tokenizer(\n",
    "        batch[\"Article\"],\n",
    "        max_length=512,\n",
    "        truncation=True,\n",
    "        padding=\"max_length\"\n",
    "    )\n",
    "    with tokenizer.as_target_tokenizer():\n",
    "        labels = tokenizer(\n",
    "            batch[\"Summary\"],\n",
    "            max_length=64,\n",
    "            truncation=True,\n",
    "            padding=\"max_length\"\n",
    "        )\n",
    "    model_inputs[\"labels\"] = labels[\"input_ids\"]\n",
    "    return model_inputs"
   ]
  },
  {
   "cell_type": "markdown",
   "id": "8a437cdc-cc92-48e4-b869-44157413be04",
   "metadata": {},
   "source": [
    "#### Convert to Hugging Face Dataset"
   ]
  },
  {
   "cell_type": "code",
   "execution_count": 5,
   "id": "98ddaa84-286c-472e-9cf2-a7ee8fa03086",
   "metadata": {},
   "outputs": [],
   "source": [
    "train_dataset = Dataset.from_pandas(train_df)\n",
    "test_dataset = Dataset.from_pandas(test_df)"
   ]
  },
  {
   "cell_type": "markdown",
   "id": "e91649a5-f0c7-46eb-95bd-cad590a902ae",
   "metadata": {},
   "source": [
    "#### Tokenize (Batched)"
   ]
  },
  {
   "cell_type": "code",
   "execution_count": null,
   "id": "95fea309-f2ae-46a9-a73f-03102862d945",
   "metadata": {},
   "outputs": [],
   "source": [
    "print(\"Tokenizing train set...\")\n",
    "tokenized_train = train_dataset.map(\n",
    "    preprocess_function,\n",
    "    batched=True,\n",
    "    remove_columns=[\"Article\", \"Summary\"]\n",
    ")\n",
    "print(\"Tokenizing test set...\")\n",
    "tokenized_test = test_dataset.map(\n",
    "    preprocess_function,\n",
    "    batched=True,\n",
    "    remove_columns=[\"Article\", \"Summary\"]\n",
    ")\n",
    "\n",
    "print(\"Tokenization complete!\")\n",
    "print(f\"Sample keys: {list(tokenized_train.features.keys())}\")"
   ]
  },
  {
   "cell_type": "markdown",
   "id": "6033f05e-7689-4fea-8930-2b47879fdc96",
   "metadata": {},
   "source": [
    "#### Save Tokenized Datasets"
   ]
  },
  {
   "cell_type": "code",
   "execution_count": null,
   "id": "e303ca20-1dba-4db2-b89e-71a89125a8de",
   "metadata": {},
   "outputs": [],
   "source": [
    "os.makedirs(TOKENIZED_OUT_DIR, exist_ok=True)\n",
    "tokenized_train.save_to_disk(os.path.join(TOKENIZED_OUT_DIR, \"train\"))\n",
    "tokenized_test.save_to_disk(os.path.join(TOKENIZED_OUT_DIR, \"test\"))"
   ]
  }
 ],
 "metadata": {
  "kernelspec": {
   "display_name": "Python (pegasusenv)",
   "language": "python",
   "name": "pegasusenv"
  },
  "language_info": {
   "codemirror_mode": {
    "name": "ipython",
    "version": 3
   },
   "file_extension": ".py",
   "mimetype": "text/x-python",
   "name": "python",
   "nbconvert_exporter": "python",
   "pygments_lexer": "ipython3",
   "version": "3.10.17"
  }
 },
 "nbformat": 4,
 "nbformat_minor": 5
}
